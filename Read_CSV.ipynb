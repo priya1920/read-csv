{
 "cells": [
  {
   "cell_type": "code",
   "execution_count": null,
   "metadata": {},
   "outputs": [],
   "source": [
    "\"\"\"Load & converting data from CSV using Pandas\"\"\"\n",
    "import pandas as pd\n",
    "\n",
    "time_cols = ['tpep_dropoff_datetime', 'tpep_pickup_datetime']\n",
    "\n",
    "\n",
    "def load_df(file_name):\n",
    "    return pd.read_csv('taxi.csv.bz2', parse_dates=time_cols)\n",
    "\n",
    "\n",
    "print(load_df('taxi.csv.bz2').head())\n",
    "\n",
    "\n",
    "def iter_df(file_name):\n",
    "    yield from pd.read_csv(\n",
    "        'taxi.csv.bz2', parse_dates=time_cols, chunksize=100)\n",
    "\n",
    "\n",
    "for i, df in enumerate(iter_df('taxi.csv.bz2')):\n",
    "    if i > 10:\n",
    "        break\n",
    "    print(len(df))\n"
   ]
  },
  {
   "cell_type": "code",
   "execution_count": 8,
   "metadata": {},
   "outputs": [],
   "source": [
    "import pandas as pd\n"
   ]
  },
  {
   "cell_type": "code",
   "execution_count": 10,
   "metadata": {},
   "outputs": [],
   "source": [
    "df = pd.read_csv('~/Desktop/taxi.csv.bz2')"
   ]
  },
  {
   "cell_type": "code",
   "execution_count": 13,
   "metadata": {},
   "outputs": [
    {
     "data": {
      "text/plain": [
       "VendorID                   int64\n",
       "tpep_pickup_datetime      object\n",
       "tpep_dropoff_datetime     object\n",
       "passenger_count            int64\n",
       "trip_distance            float64\n",
       "RatecodeID                 int64\n",
       "store_and_fwd_flag        object\n",
       "PULocationID               int64\n",
       "DOLocationID               int64\n",
       "payment_type               int64\n",
       "fare_amount              float64\n",
       "extra                    float64\n",
       "mta_tax                  float64\n",
       "tip_amount               float64\n",
       "tolls_amount             float64\n",
       "improvement_surcharge    float64\n",
       "total_amount             float64\n",
       "dtype: object"
      ]
     },
     "execution_count": 13,
     "metadata": {},
     "output_type": "execute_result"
    }
   ],
   "source": [
    "df.dtypes"
   ]
  },
  {
   "cell_type": "code",
   "execution_count": 14,
   "metadata": {},
   "outputs": [],
   "source": [
    "time_cols = ['tpep_dropoff_datetime', 'tpep_pickup_datetime']"
   ]
  },
  {
   "cell_type": "code",
   "execution_count": 15,
   "metadata": {},
   "outputs": [],
   "source": [
    "df = pd.read_csv('~/Desktop/taxi.csv.bz2', parse_dates= time_cols)"
   ]
  },
  {
   "cell_type": "code",
   "execution_count": 16,
   "metadata": {},
   "outputs": [
    {
     "data": {
      "text/plain": [
       "VendorID                          int64\n",
       "tpep_pickup_datetime     datetime64[ns]\n",
       "tpep_dropoff_datetime    datetime64[ns]\n",
       "passenger_count                   int64\n",
       "trip_distance                   float64\n",
       "RatecodeID                        int64\n",
       "store_and_fwd_flag               object\n",
       "PULocationID                      int64\n",
       "DOLocationID                      int64\n",
       "payment_type                      int64\n",
       "fare_amount                     float64\n",
       "extra                           float64\n",
       "mta_tax                         float64\n",
       "tip_amount                      float64\n",
       "tolls_amount                    float64\n",
       "improvement_surcharge           float64\n",
       "total_amount                    float64\n",
       "dtype: object"
      ]
     },
     "execution_count": 16,
     "metadata": {},
     "output_type": "execute_result"
    }
   ],
   "source": [
    "df.dtypes"
   ]
  },
  {
   "cell_type": "code",
   "execution_count": 17,
   "metadata": {},
   "outputs": [],
   "source": [
    "df = pd.read_csv('~/Desktop/taxi.csv.bz2', parse_dates= time_cols, chunksize=1000)\n",
    "#Chunksize is to load part of the data"
   ]
  },
  {
   "cell_type": "code",
   "execution_count": 18,
   "metadata": {},
   "outputs": [
    {
     "data": {
      "text/plain": [
       "<pandas.io.parsers.TextFileReader at 0x10fde9410>"
      ]
     },
     "execution_count": 18,
     "metadata": {},
     "output_type": "execute_result"
    }
   ],
   "source": [
    "df"
   ]
  },
  {
   "cell_type": "code",
   "execution_count": 19,
   "metadata": {},
   "outputs": [
    {
     "name": "stdout",
     "output_type": "stream",
     "text": [
      "1000\n",
      "1000\n",
      "1000\n",
      "1000\n",
      "1000\n",
      "1000\n",
      "1000\n",
      "1000\n",
      "1000\n",
      "1000\n"
     ]
    }
   ],
   "source": [
    "for p in df:\n",
    "    print(len(p))"
   ]
  },
  {
   "cell_type": "code",
   "execution_count": null,
   "metadata": {},
   "outputs": [],
   "source": [
    "def load_df(file_name):\n",
    "    return pd.read_csv('taxi.csv.bz2', parse_dates=time_cols)\n",
    "\n",
    "\n",
    "print(load_df('taxi.csv.bz2').head())\n",
    "\n",
    "\n",
    "def iter_df(file_name):\n",
    "    yield from pd.read_csv(\n",
    "        'taxi.csv.bz2', parse_dates=time_cols, chunksize=100)\n",
    "\n",
    "\n",
    "for i, df in enumerate(iter_df('taxi.csv.bz2')):\n",
    "    if i > 10:\n",
    "        break\n",
    "    print(len(df))\n",
    "\n"
   ]
  },
  {
   "cell_type": "code",
   "execution_count": 21,
   "metadata": {},
   "outputs": [
    {
     "name": "stdout",
     "output_type": "stream",
     "text": [
      "   VendorID tpep_pickup_datetime tpep_dropoff_datetime  passenger_count  \\\n",
      "0         2  2018-10-31 07:10:55   2018-11-01 06:43:24                1   \n",
      "1         2  2018-10-31 16:38:25   2018-10-31 16:50:10                5   \n",
      "2         2  2018-10-31 20:23:41   2018-10-31 20:31:47                1   \n",
      "3         2  2018-10-31 22:44:24   2018-10-31 22:48:28                1   \n",
      "4         2  2018-10-31 23:22:18   2018-10-31 23:35:30                1   \n",
      "\n",
      "   trip_distance  RatecodeID store_and_fwd_flag  PULocationID  DOLocationID  \\\n",
      "0           2.57           1                  N           211            48   \n",
      "1           3.58           1                  N           237           144   \n",
      "2           2.39           1                  N           163           107   \n",
      "3           0.50           1                  N           246           246   \n",
      "4           1.81           1                  N            79            90   \n",
      "\n",
      "   payment_type  fare_amount  extra  mta_tax  tip_amount  tolls_amount  \\\n",
      "0             1         14.5    0.5      0.5        4.74           0.0   \n",
      "1             2         12.5    0.5      0.5        0.00           0.0   \n",
      "2             1          9.0    0.5      0.5        1.00           0.0   \n",
      "3             2          4.5    0.5      0.5        0.00           0.0   \n",
      "4             1         10.0    0.5      0.5        2.26           0.0   \n",
      "\n",
      "   improvement_surcharge  total_amount  \n",
      "0                    0.3         20.54  \n",
      "1                    0.3         13.80  \n",
      "2                    0.3         11.30  \n",
      "3                    0.3          5.80  \n",
      "4                    0.3         13.56  \n"
     ]
    }
   ],
   "source": [
    "def load_df(file_name):\n",
    "    return pd.read_csv('~/Desktop/taxi.csv.bz2', parse_dates=time_cols)\n",
    "\n",
    "\n",
    "print(load_df('~/Desktop/taxi.csv.bz2').head())"
   ]
  },
  {
   "cell_type": "code",
   "execution_count": 25,
   "metadata": {},
   "outputs": [
    {
     "name": "stdout",
     "output_type": "stream",
     "text": [
      "100\n",
      "100\n",
      "100\n",
      "100\n",
      "100\n",
      "100\n",
      "100\n",
      "100\n",
      "100\n",
      "100\n",
      "100\n"
     ]
    }
   ],
   "source": [
    "\n",
    "def iter_df(file_name):\n",
    "    yield from pd.read_csv(\n",
    "        '~/Desktop/taxi.csv.bz2', parse_dates=time_cols, chunksize=100)\n",
    "\n",
    "\n",
    "for i, df in enumerate(iter_df('~/Desktop/taxi.csv.bz2')):\n",
    "    if i > 10:\n",
    "        break\n",
    "    print(len(df))\n"
   ]
  },
  {
   "cell_type": "code",
   "execution_count": 34,
   "metadata": {},
   "outputs": [
    {
     "name": "stdout",
     "output_type": "stream",
     "text": [
      "[1, 4, 9]\n"
     ]
    }
   ],
   "source": [
    "#Use of yield function over for loop\n",
    "def square_numbers(num):\n",
    "    result=[]\n",
    "    for i in num:\n",
    "        result.append(i*i)\n",
    "    return result\n",
    "my_result = square_numbers([1,2,3])\n",
    "print(my_result)"
   ]
  },
  {
   "cell_type": "code",
   "execution_count": 32,
   "metadata": {},
   "outputs": [],
   "source": [
    "def square_numbers(num):\n",
    "    for i in num:\n",
    "        yield(i*i)\n",
    "my_result = square_numbers([1,2,3])"
   ]
  },
  {
   "cell_type": "code",
   "execution_count": 33,
   "metadata": {},
   "outputs": [
    {
     "name": "stdout",
     "output_type": "stream",
     "text": [
      "1\n",
      "4\n",
      "9\n"
     ]
    }
   ],
   "source": [
    "for i in my_result:\n",
    "    print(i)"
   ]
  },
  {
   "cell_type": "code",
   "execution_count": 39,
   "metadata": {},
   "outputs": [
    {
     "name": "stdout",
     "output_type": "stream",
     "text": [
      "<generator object <genexpr> at 0x1103b2c50>\n",
      "1\n",
      "4\n",
      "9\n"
     ]
    }
   ],
   "source": [
    "#List comprehension\n",
    "my_result= (x*x for x in [1,2,3])\n",
    "print(my_result)\n",
    "for i in my_result:\n",
    "    print(i)"
   ]
  },
  {
   "cell_type": "code",
   "execution_count": 38,
   "metadata": {},
   "outputs": [
    {
     "name": "stdout",
     "output_type": "stream",
     "text": [
      "[1, 4, 9]\n"
     ]
    }
   ],
   "source": [
    "#List comprehension\n",
    "my_result= [x*x for x in [1,2,3]]\n",
    "print(my_result)"
   ]
  },
  {
   "cell_type": "code",
   "execution_count": null,
   "metadata": {},
   "outputs": [],
   "source": []
  }
 ],
 "metadata": {
  "kernelspec": {
   "display_name": "Python 3",
   "language": "python",
   "name": "python3"
  },
  "language_info": {
   "codemirror_mode": {
    "name": "ipython",
    "version": 3
   },
   "file_extension": ".py",
   "mimetype": "text/x-python",
   "name": "python",
   "nbconvert_exporter": "python",
   "pygments_lexer": "ipython3",
   "version": "3.7.6"
  }
 },
 "nbformat": 4,
 "nbformat_minor": 4
}
